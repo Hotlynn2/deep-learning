{
 "cells": [
  {
   "cell_type": "code",
   "execution_count": 1,
   "source": [
    "import torch\r\n",
    "import torchvision\r\n",
    "import tarfile\r\n",
    "import matplotlib.pyplot as plt\r\n",
    "import numpy as np\r\n",
    "import os\r\n",
    "from torchvision.datasets import MNIST\r\n",
    "from torchvision.datasets.utils import download_url\r\n",
    "from torchvision.datasets import ImageFolder\r\n",
    "from torchvision.transforms import ToTensor, Compose, Normalize\r\n",
    "from torch.utils.data.dataloader import DataLoader\r\n",
    "import torch.nn as nn"
   ],
   "outputs": [],
   "metadata": {}
  },
  {
   "cell_type": "code",
   "execution_count": 2,
   "source": [
    "mnist = MNIST(root = './', \r\n",
    "                train = True,\r\n",
    "                transform = Compose([ToTensor(), Normalize((0.5,), (0.5,))])\r\n",
    "                )"
   ],
   "outputs": [],
   "metadata": {}
  },
  {
   "cell_type": "code",
   "execution_count": 3,
   "source": [
    "img, label = mnist[5]\r\n",
    "# print(img)\r\n",
    "print(label)"
   ],
   "outputs": [
    {
     "output_type": "stream",
     "name": "stdout",
     "text": [
      "2\n"
     ]
    }
   ],
   "metadata": {}
  },
  {
   "cell_type": "code",
   "execution_count": 4,
   "source": [
    "def denorm(x):\r\n",
    "    out = (x+1) / 2\r\n",
    "    return out.clamp(0 , 1)"
   ],
   "outputs": [],
   "metadata": {}
  },
  {
   "cell_type": "code",
   "execution_count": 5,
   "source": [
    "%matplotlib inline\r\n",
    "denorm(img)\r\n",
    "plt.imshow(img[0], cmap = 'gray')\r\n",
    "print('Label:', label)"
   ],
   "outputs": [
    {
     "output_type": "stream",
     "name": "stdout",
     "text": [
      "Label: 2\n"
     ]
    },
    {
     "output_type": "display_data",
     "data": {
      "text/plain": [
       "<Figure size 432x288 with 1 Axes>"
      ],
      "image/png": "[encoded data removed]"
     },
     "metadata": {
      "needs_background": "light"
     }
    }
   ],
   "metadata": {}
  },
  {
   "cell_type": "code",
   "execution_count": 6,
   "source": [
    "data_batch = DataLoader(dataset = mnist,\r\n",
    "                            batch_size = 100,\r\n",
    "                            shuffle = True)"
   ],
   "outputs": [],
   "metadata": {}
  },
  {
   "cell_type": "code",
   "execution_count": 7,
   "source": [
    "for img, label in data_batch:\r\n",
    "    print(img.shape)\r\n",
    "    # print(img[0][0])\r\n",
    "    plt.imshow(img[0][0], cmap = 'gray')\r\n",
    "    print(label)\r\n",
    "    break"
   ],
   "outputs": [
    {
     "output_type": "stream",
     "name": "stdout",
     "text": [
      "torch.Size([100, 1, 28, 28])\n",
      "tensor([4, 5, 0, 1, 4, 1, 4, 5, 0, 1, 9, 1, 9, 4, 7, 1, 1, 6, 7, 8, 0, 2, 7, 2,\n",
      "        0, 2, 9, 9, 2, 9, 5, 1, 8, 1, 3, 7, 5, 0, 2, 9, 2, 1, 4, 8, 1, 9, 8, 0,\n",
      "        2, 6, 0, 1, 9, 0, 1, 9, 3, 5, 3, 3, 3, 4, 2, 3, 1, 4, 3, 7, 6, 5, 2, 6,\n",
      "        2, 9, 0, 0, 9, 6, 5, 0, 1, 5, 0, 2, 3, 1, 3, 6, 7, 6, 4, 8, 4, 4, 3, 9,\n",
      "        3, 5, 0, 6])\n"
     ]
    },
    {
     "output_type": "display_data",
     "data": {
      "text/plain": [
       "<Figure size 432x288 with 1 Axes>"
      ],
      "image/png": "[encoded data removed]"
     },
     "metadata": {
      "needs_background": "light"
     }
    }
   ],
   "metadata": {}
  },
  {
   "cell_type": "code",
   "execution_count": 8,
   "source": [
    "device = torch.device('cuda' if torch.cuda.is_available() else 'cpu')"
   ],
   "outputs": [],
   "metadata": {}
  },
  {
   "cell_type": "code",
   "execution_count": 9,
   "source": [
    "device"
   ],
   "outputs": [
    {
     "output_type": "execute_result",
     "data": {
      "text/plain": [
       "device(type='cpu')"
      ]
     },
     "metadata": {},
     "execution_count": 9
    }
   ],
   "metadata": {}
  },
  {
   "cell_type": "code",
   "execution_count": 10,
   "source": [
    "image_size = 784\r\n",
    "hidden_state = 256"
   ],
   "outputs": [],
   "metadata": {}
  },
  {
   "cell_type": "code",
   "execution_count": 11,
   "source": [
    "D = nn.Sequential(\r\n",
    "    nn.Linear(image_size, hidden_state),\r\n",
    "    nn.LeakyReLU(0.2),\r\n",
    "    nn.Linear(hidden_state, hidden_state),\r\n",
    "    nn.LeakyReLU(0.2),\r\n",
    "    nn.Linear(hidden_state, 1),\r\n",
    "    nn.Sigmoid()\r\n",
    ")"
   ],
   "outputs": [],
   "metadata": {}
  },
  {
   "cell_type": "code",
   "execution_count": 12,
   "source": [
    "D.to(device)"
   ],
   "outputs": [
    {
     "output_type": "execute_result",
     "data": {
      "text/plain": [
       "Sequential(\n",
       "  (0): Linear(in_features=784, out_features=256, bias=True)\n",
       "  (1): LeakyReLU(negative_slope=0.2)\n",
       "  (2): Linear(in_features=256, out_features=256, bias=True)\n",
       "  (3): LeakyReLU(negative_slope=0.2)\n",
       "  (4): Linear(in_features=256, out_features=1, bias=True)\n",
       "  (5): Sigmoid()\n",
       ")"
      ]
     },
     "metadata": {},
     "execution_count": 12
    }
   ],
   "metadata": {}
  },
  {
   "cell_type": "code",
   "execution_count": 13,
   "source": [
    "latent_size = 128"
   ],
   "outputs": [],
   "metadata": {}
  },
  {
   "cell_type": "code",
   "execution_count": 14,
   "source": [
    "G = nn.Sequential(\r\n",
    "        nn.Linear(latent_size, hidden_state),\r\n",
    "        nn.ReLU(),\r\n",
    "        nn.Linear(hidden_state, hidden_state),\r\n",
    "        nn.ReLU(),\r\n",
    "        nn.Linear(hidden_state, image_size),\r\n",
    "        nn.Tanh()\r\n",
    ")"
   ],
   "outputs": [],
   "metadata": {}
  },
  {
   "cell_type": "code",
   "execution_count": 15,
   "source": [
    "G.to(device)"
   ],
   "outputs": [
    {
     "output_type": "execute_result",
     "data": {
      "text/plain": [
       "Sequential(\n",
       "  (0): Linear(in_features=128, out_features=256, bias=True)\n",
       "  (1): ReLU()\n",
       "  (2): Linear(in_features=256, out_features=256, bias=True)\n",
       "  (3): ReLU()\n",
       "  (4): Linear(in_features=256, out_features=784, bias=True)\n",
       "  (5): Tanh()\n",
       ")"
      ]
     },
     "metadata": {},
     "execution_count": 15
    }
   ],
   "metadata": {}
  },
  {
   "cell_type": "code",
   "execution_count": 16,
   "source": [
    "y = G(torch.randn(3, latent_size))\r\n",
    "generated_imgs = denorm(y.reshape((-1, 28,28)).detach())\r\n",
    "plt.imshow(generated_imgs[0], cmap = 'gray')"
   ],
   "outputs": [
    {
     "output_type": "execute_result",
     "data": {
      "text/plain": [
       "<matplotlib.image.AxesImage at 0x236268a50c8>"
      ]
     },
     "metadata": {},
     "execution_count": 16
    },
    {
     "output_type": "display_data",
     "data": {
      "text/plain": [
       "<Figure size 432x288 with 1 Axes>"
      ],
      "image/png": "[encoded data removed]"
     },
     "metadata": {
      "needs_background": "light"
     }
    }
   ],
   "metadata": {}
  },
  {
   "cell_type": "code",
   "execution_count": 17,
   "source": [
    "loss_fn = nn.BCELoss()\r\n",
    "d_optimizer = torch.optim.Adam(D.parameters(), lr=0.0002)\r\n",
    "g_optimizer = torch.optim.Adam(G.parameters(), lr=0.0002)"
   ],
   "outputs": [],
   "metadata": {}
  },
  {
   "cell_type": "code",
   "execution_count": 18,
   "source": [
    "def train_discriminator(images):\r\n",
    "    real_labels = torch.ones(batch_size, 1).to(device)\r\n",
    "    fake_labels = torch.zeros(batch_size, 1).to(device)\r\n",
    "\r\n",
    "    outputs = D(images)\r\n",
    "    d_loss_real = loss_fn(outputs, real_labels)\r\n",
    "    real_score = outputs\r\n",
    "\r\n",
    "    gen_fake_img_for_d = torch.randn(batch_size, latent_size).to(device)\r\n",
    "    fake_images = G(gen_fake_img_for_d)\r\n",
    "    outputs = D(fake_images)\r\n",
    "    d_loss_fake = loss_fn(fake_images, fake_labels)\r\n",
    "    fake_score = outputs\r\n",
    "\r\n",
    "    d_loss = d_loss_real + d_loss_fake\r\n",
    "\r\n",
    "    d_loss.backward()\r\n",
    "\r\n",
    "    d_optimizer.step()\r\n",
    "\r\n",
    "    d_optimizer.zero_grad()\r\n",
    "    g_optimizer.zero_grad()\r\n",
    "\r\n",
    "    return d_loss, real_score, fake_score\r\n",
    "\r\n",
    "\r\n"
   ],
   "outputs": [],
   "metadata": {}
  },
  {
   "cell_type": "code",
   "execution_count": null,
   "source": [
    "def train_generator():\r\n",
    "    z = torch.randn.(batch_size, latent_size).detach()\r\n",
    "    fake_image = G(z)\r\n",
    "    labels = torch.ones(batch_size, 1).detach()\r\n",
    "    g_loss = loss_fn(D(fake_image), labels)\r\n",
    "    "
   ],
   "outputs": [],
   "metadata": {}
  }
 ],
 "metadata": {
  "orig_nbformat": 4,
  "language_info": {
   "name": "python",
   "version": "3.7.4",
   "mimetype": "text/x-python",
   "codemirror_mode": {
    "name": "ipython",
    "version": 3
   },
   "pygments_lexer": "ipython3",
   "nbconvert_exporter": "python",
   "file_extension": ".py"
  },
  "kernelspec": {
   "name": "python3",
   "display_name": "Python 3.7.4 64-bit ('base': conda)"
  },
  "interpreter": {
   "hash": "9d3bae0a0f66551680ef8a166f6b92cc2774d5d7901f027deb7bb883ed06d5ae"
  }
 },
 "nbformat": 4,
 "nbformat_minor": 2
}