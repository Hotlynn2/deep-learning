{
 "cells": [
  {
   "cell_type": "code",
   "execution_count": 1,
   "source": [
    "import torch\r\n",
    "import torchvision\r\n",
    "import tarfile\r\n",
    "import matplotlib.pyplot as plt\r\n",
    "import numpy as np\r\n",
    "import os\r\n",
    "from torchvision.datasets import MNIST\r\n",
    "from torchvision.datasets.utils import download_url\r\n",
    "from torchvision.datasets import ImageFolder\r\n",
    "from torchvision.transforms import ToTensor, Compose, Normalize\r\n",
    "from torch.utils.data.dataloader import DataLoader\r\n",
    "import torch.nn as nn"
   ],
   "outputs": [],
   "metadata": {}
  },
  {
   "cell_type": "code",
   "execution_count": 2,
   "source": [
    "mnist = MNIST(root = './', \r\n",
    "                train = True,\r\n",
    "                transform = Compose([ToTensor(), Normalize((0.5,), (0.5,))])\r\n",
    "                )"
   ],
   "outputs": [],
   "metadata": {}
  },
  {
   "cell_type": "code",
   "execution_count": 3,
   "source": [
    "img, label = mnist[5]\r\n",
    "# print(img)\r\n",
    "print(label)"
   ],
   "outputs": [
    {
     "output_type": "stream",
     "name": "stdout",
     "text": [
      "2\n"
     ]
    }
   ],
   "metadata": {}
  },
  {
   "cell_type": "code",
   "execution_count": 4,
   "source": [
    "def denorm(x):\r\n",
    "    out = (x+1) / 2\r\n",
    "    return out.clamp(0 , 1)"
   ],
   "outputs": [],
   "metadata": {}
  },
  {
   "cell_type": "code",
   "execution_count": 5,
   "source": [
    "%matplotlib inline\r\n",
    "denorm(img)\r\n",
    "plt.imshow(img[0], cmap = 'gray')\r\n",
    "print('Label:', label)"
   ],
   "outputs": [
    {
     "output_type": "stream",
     "name": "stdout",
     "text": [
      "Label: 2\n"
     ]
    },
    {
     "output_type": "display_data",
     "data": {
      "text/plain": [
       "<Figure size 432x288 with 1 Axes>"
      ],
      "image/png": "[encoded data removed]"
     },
     "metadata": {
      "needs_background": "light"
     }
    }
   ],
   "metadata": {}
  },
  {
   "cell_type": "code",
   "execution_count": 6,
   "source": [
    "data_batch = DataLoader(dataset = mnist,\r\n",
    "                            batch_size = 100,\r\n",
    "                            shuffle = True)"
   ],
   "outputs": [],
   "metadata": {}
  },
  {
   "cell_type": "code",
   "execution_count": 7,
   "source": [
    "for img, label in data_batch:\r\n",
    "    print(img.shape)\r\n",
    "    # print(img[0][0])\r\n",
    "    plt.imshow(img[0][0], cmap = 'gray')\r\n",
    "    print(label)\r\n",
    "    break"
   ],
   "outputs": [
    {
     "output_type": "stream",
     "name": "stdout",
     "text": [
      "torch.Size([100, 1, 28, 28])\n",
      "tensor([2, 0, 4, 2, 4, 6, 2, 6, 2, 2, 1, 4, 1, 2, 5, 6, 7, 2, 4, 3, 0, 1, 8, 9,\n",
      "        8, 5, 8, 9, 8, 5, 7, 5, 9, 6, 5, 0, 4, 8, 7, 5, 8, 9, 7, 0, 5, 8, 1, 3,\n",
      "        9, 6, 0, 1, 3, 1, 3, 2, 9, 8, 2, 8, 3, 8, 3, 6, 4, 5, 2, 3, 8, 0, 3, 6,\n",
      "        6, 5, 5, 2, 7, 6, 3, 4, 4, 5, 7, 0, 8, 0, 0, 9, 0, 8, 8, 4, 9, 4, 6, 4,\n",
      "        1, 0, 6, 1])\n"
     ]
    },
    {
     "output_type": "display_data",
     "data": {
      "text/plain": [
       "<Figure size 432x288 with 1 Axes>"
      ],
      "image/png": "[encoded data removed]"
     },
     "metadata": {
      "needs_background": "light"
     }
    }
   ],
   "metadata": {}
  },
  {
   "cell_type": "code",
   "execution_count": 8,
   "source": [
    "device = torch.device('cuda' if torch.cuda.is_available() else 'cpu')"
   ],
   "outputs": [],
   "metadata": {}
  },
  {
   "cell_type": "code",
   "execution_count": 9,
   "source": [
    "device"
   ],
   "outputs": [
    {
     "output_type": "execute_result",
     "data": {
      "text/plain": [
       "device(type='cpu')"
      ]
     },
     "metadata": {},
     "execution_count": 9
    }
   ],
   "metadata": {}
  },
  {
   "cell_type": "code",
   "execution_count": 10,
   "source": [
    "image_size = 784\r\n",
    "hidden_state = 256"
   ],
   "outputs": [],
   "metadata": {}
  },
  {
   "cell_type": "code",
   "execution_count": 11,
   "source": [
    "D = nn.Sequential(\r\n",
    "    nn.Linear(image_size, hidden_state),\r\n",
    "    nn.LeakyReLU(0.2),\r\n",
    "    nn.Linear(hidden_state, hidden_state),\r\n",
    "    nn.LeakyReLU(0.2),\r\n",
    "    nn.Linear(hidden_state, 1),\r\n",
    "    nn.Sigmoid()\r\n",
    ")"
   ],
   "outputs": [],
   "metadata": {}
  },
  {
   "cell_type": "code",
   "execution_count": 12,
   "source": [
    "D.to(device)"
   ],
   "outputs": [
    {
     "output_type": "execute_result",
     "data": {
      "text/plain": [
       "Sequential(\n",
       "  (0): Linear(in_features=784, out_features=256, bias=True)\n",
       "  (1): LeakyReLU(negative_slope=0.2)\n",
       "  (2): Linear(in_features=256, out_features=256, bias=True)\n",
       "  (3): LeakyReLU(negative_slope=0.2)\n",
       "  (4): Linear(in_features=256, out_features=1, bias=True)\n",
       "  (5): Sigmoid()\n",
       ")"
      ]
     },
     "metadata": {},
     "execution_count": 12
    }
   ],
   "metadata": {}
  },
  {
   "cell_type": "code",
   "execution_count": 14,
   "source": [
    "latent_size = 128"
   ],
   "outputs": [],
   "metadata": {}
  },
  {
   "cell_type": "code",
   "execution_count": 15,
   "source": [
    "G = nn.Sequential(\r\n",
    "        nn.Linear(latent_size, hidden_state),\r\n",
    "        nn.ReLU(),\r\n",
    "        nn.Linear(hidden_state, hidden_state),\r\n",
    "        nn.ReLU(),\r\n",
    "        nn.Linear(hidden_state, image_size),\r\n",
    "        nn.Tanh()\r\n",
    ")"
   ],
   "outputs": [],
   "metadata": {}
  },
  {
   "cell_type": "code",
   "execution_count": 16,
   "source": [
    "G.to(device)"
   ],
   "outputs": [
    {
     "output_type": "execute_result",
     "data": {
      "text/plain": [
       "Sequential(\n",
       "  (0): Linear(in_features=128, out_features=256, bias=True)\n",
       "  (1): ReLU()\n",
       "  (2): Linear(in_features=256, out_features=256, bias=True)\n",
       "  (3): ReLU()\n",
       "  (4): Linear(in_features=256, out_features=784, bias=True)\n",
       "  (5): Tanh()\n",
       ")"
      ]
     },
     "metadata": {},
     "execution_count": 16
    }
   ],
   "metadata": {}
  },
  {
   "cell_type": "code",
   "execution_count": null,
   "source": [],
   "outputs": [],
   "metadata": {}
  }
 ],
 "metadata": {
  "orig_nbformat": 4,
  "language_info": {
   "name": "python",
   "version": "3.7.4",
   "mimetype": "text/x-python",
   "codemirror_mode": {
    "name": "ipython",
    "version": 3
   },
   "pygments_lexer": "ipython3",
   "nbconvert_exporter": "python",
   "file_extension": ".py"
  },
  "kernelspec": {
   "name": "python3",
   "display_name": "Python 3.7.4 64-bit ('base': conda)"
  },
  "interpreter": {
   "hash": "9d3bae0a0f66551680ef8a166f6b92cc2774d5d7901f027deb7bb883ed06d5ae"
  }
 },
 "nbformat": 4,
 "nbformat_minor": 2
}