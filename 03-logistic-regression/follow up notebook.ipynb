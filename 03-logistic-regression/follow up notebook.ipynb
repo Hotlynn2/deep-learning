{
 "cells": [
  {
   "cell_type": "code",
   "execution_count": 101,
   "metadata": {},
   "outputs": [],
   "source": [
    "import numpy as np\n",
    "import torch\n",
    "import torchvision\n",
    "import torch.nn as nn\n",
    "from torchvision import transforms\n",
    "from torchvision.datasets import MNIST\n",
    "from torch.utils.data.dataloader import DataLoader\n",
    "from torch.utils.data.sampler import SubsetRandomSampler"
   ]
  },
  {
   "cell_type": "code",
   "execution_count": 2,
   "metadata": {
    "scrolled": true
   },
   "outputs": [],
   "source": [
    "datasets = MNIST(root = 'classification data/', download = True)"
   ]
  },
  {
   "cell_type": "code",
   "execution_count": 13,
   "metadata": {},
   "outputs": [],
   "source": [
    "datasets = MNIST(root = 'classification data/', train = True)"
   ]
  },
  {
   "cell_type": "code",
   "execution_count": 15,
   "metadata": {},
   "outputs": [
    {
     "data": {
      "text/plain": [
       "60000"
      ]
     },
     "execution_count": 15,
     "metadata": {},
     "output_type": "execute_result"
    }
   ],
   "source": [
    "len(datasets)"
   ]
  },
  {
   "cell_type": "code",
   "execution_count": 5,
   "metadata": {},
   "outputs": [],
   "source": [
    "test_data = MNIST(root = 'classification data/', train = False)"
   ]
  },
  {
   "cell_type": "code",
   "execution_count": 6,
   "metadata": {
    "scrolled": true
   },
   "outputs": [
    {
     "data": {
      "text/plain": [
       "10000"
      ]
     },
     "execution_count": 6,
     "metadata": {},
     "output_type": "execute_result"
    }
   ],
   "source": [
    "len(test_data)"
   ]
  },
  {
   "cell_type": "code",
   "execution_count": 14,
   "metadata": {},
   "outputs": [
    {
     "data": {
      "text/plain": [
       "(<PIL.Image.Image image mode=L size=28x28 at 0x13F915E4A48>, 4)"
      ]
     },
     "execution_count": 14,
     "metadata": {},
     "output_type": "execute_result"
    }
   ],
   "source": [
    "datasets[2]"
   ]
  },
  {
   "cell_type": "code",
   "execution_count": 8,
   "metadata": {},
   "outputs": [
    {
     "data": {
      "text/plain": [
       "(<PIL.Image.Image image mode=L size=28x28 at 0x13F915CEC08>, 3)"
      ]
     },
     "execution_count": 8,
     "metadata": {},
     "output_type": "execute_result"
    }
   ],
   "source": [
    "test_data[200]"
   ]
  },
  {
   "cell_type": "code",
   "execution_count": 16,
   "metadata": {},
   "outputs": [],
   "source": [
    "datasets = MNIST(root = 'classification data/', train = True, transform = transforms.ToTensor())"
   ]
  },
  {
   "cell_type": "code",
   "execution_count": 17,
   "metadata": {},
   "outputs": [
    {
     "name": "stdout",
     "output_type": "stream",
     "text": [
      "torch.Size([1, 28, 28])\n",
      "4\n"
     ]
    }
   ],
   "source": [
    "img, label = datasets[2]\n",
    "print(img.shape)\n",
    "print(label)"
   ]
  },
  {
   "cell_type": "code",
   "execution_count": 11,
   "metadata": {},
   "outputs": [],
   "source": [
    "test_data = MNIST(root = 'classification data/', train = False, transform = transforms.ToTensor())"
   ]
  },
  {
   "cell_type": "code",
   "execution_count": 18,
   "metadata": {},
   "outputs": [
    {
     "name": "stdout",
     "output_type": "stream",
     "text": [
      "torch.Size([1, 28, 28])\n",
      "1\n"
     ]
    }
   ],
   "source": [
    "img, label = datasets[200]\n",
    "print(img.shape)\n",
    "print(label)"
   ]
  },
  {
   "cell_type": "code",
   "execution_count": 76,
   "metadata": {},
   "outputs": [],
   "source": [
    "# creating training datasets and validation datasets\n",
    "\n",
    "\n",
    "def indices_selector(factor, data_num):\n",
    "    val_num_of_indices = int(factor * data_num)\n",
    "    total_indices = np.random.permutation(data_num)\n",
    "    return total_indices[val_num_of_indices:], total_indices[:val_num_of_indices]"
   ]
  },
  {
   "cell_type": "code",
   "execution_count": 77,
   "metadata": {},
   "outputs": [
    {
     "data": {
      "text/plain": [
       "(array([40268, 58085, 33659, ..., 15519, 52885, 30271]),\n",
       " array([51500, 45951, 32969, ..., 45427, 52568, 29420]))"
      ]
     },
     "execution_count": 77,
     "metadata": {},
     "output_type": "execute_result"
    }
   ],
   "source": [
    "indices_selector(0.2, len(datasets))"
   ]
  },
  {
   "cell_type": "code",
   "execution_count": 78,
   "metadata": {},
   "outputs": [],
   "source": [
    "train_indices, val_indices = indices_selector(0.2, len(datasets))"
   ]
  },
  {
   "cell_type": "code",
   "execution_count": 97,
   "metadata": {},
   "outputs": [],
   "source": [
    "batch_size = 500"
   ]
  },
  {
   "cell_type": "code",
   "execution_count": 98,
   "metadata": {},
   "outputs": [],
   "source": [
    "train_sampler = SubsetRandomSampler(train_indices)\n",
    "train_data = DataLoader(datasets, batch_size, sampler = train_sampler)\n",
    "val_sampler = SubsetRandomSampler(val_indices)\n",
    "val_data = DataLoader(datasets, batch_size, sampler = val_sampler)"
   ]
  },
  {
   "cell_type": "code",
   "execution_count": 103,
   "metadata": {
    "scrolled": true
   },
   "outputs": [
    {
     "name": "stdout",
     "output_type": "stream",
     "text": [
      "torch.Size([500, 1, 28, 28])\n",
      "torch.Size([500, 1, 28, 28])\n",
      "torch.Size([500, 1, 28, 28])\n",
      "torch.Size([500, 1, 28, 28])\n",
      "torch.Size([500, 1, 28, 28])\n",
      "torch.Size([500, 1, 28, 28])\n",
      "torch.Size([500, 1, 28, 28])\n",
      "torch.Size([500, 1, 28, 28])\n",
      "torch.Size([500, 1, 28, 28])\n",
      "torch.Size([500, 1, 28, 28])\n",
      "torch.Size([500, 1, 28, 28])\n",
      "torch.Size([500, 1, 28, 28])\n",
      "torch.Size([500, 1, 28, 28])\n",
      "torch.Size([500, 1, 28, 28])\n",
      "torch.Size([500, 1, 28, 28])\n",
      "torch.Size([500, 1, 28, 28])\n",
      "torch.Size([500, 1, 28, 28])\n",
      "torch.Size([500, 1, 28, 28])\n",
      "torch.Size([500, 1, 28, 28])\n",
      "torch.Size([500, 1, 28, 28])\n",
      "torch.Size([500, 1, 28, 28])\n",
      "torch.Size([500, 1, 28, 28])\n",
      "torch.Size([500, 1, 28, 28])\n",
      "torch.Size([500, 1, 28, 28])\n",
      "torch.Size([500, 1, 28, 28])\n",
      "torch.Size([500, 1, 28, 28])\n",
      "torch.Size([500, 1, 28, 28])\n",
      "torch.Size([500, 1, 28, 28])\n",
      "torch.Size([500, 1, 28, 28])\n",
      "torch.Size([500, 1, 28, 28])\n",
      "torch.Size([500, 1, 28, 28])\n",
      "torch.Size([500, 1, 28, 28])\n",
      "torch.Size([500, 1, 28, 28])\n",
      "torch.Size([500, 1, 28, 28])\n",
      "torch.Size([500, 1, 28, 28])\n",
      "torch.Size([500, 1, 28, 28])\n",
      "torch.Size([500, 1, 28, 28])\n",
      "torch.Size([500, 1, 28, 28])\n",
      "torch.Size([500, 1, 28, 28])\n",
      "torch.Size([500, 1, 28, 28])\n",
      "torch.Size([500, 1, 28, 28])\n",
      "torch.Size([500, 1, 28, 28])\n",
      "torch.Size([500, 1, 28, 28])\n",
      "torch.Size([500, 1, 28, 28])\n",
      "torch.Size([500, 1, 28, 28])\n",
      "torch.Size([500, 1, 28, 28])\n",
      "torch.Size([500, 1, 28, 28])\n",
      "torch.Size([500, 1, 28, 28])\n",
      "torch.Size([500, 1, 28, 28])\n",
      "torch.Size([500, 1, 28, 28])\n",
      "torch.Size([500, 1, 28, 28])\n",
      "torch.Size([500, 1, 28, 28])\n",
      "torch.Size([500, 1, 28, 28])\n",
      "torch.Size([500, 1, 28, 28])\n",
      "torch.Size([500, 1, 28, 28])\n",
      "torch.Size([500, 1, 28, 28])\n",
      "torch.Size([500, 1, 28, 28])\n",
      "torch.Size([500, 1, 28, 28])\n",
      "torch.Size([500, 1, 28, 28])\n",
      "torch.Size([500, 1, 28, 28])\n",
      "torch.Size([500, 1, 28, 28])\n",
      "torch.Size([500, 1, 28, 28])\n",
      "torch.Size([500, 1, 28, 28])\n",
      "torch.Size([500, 1, 28, 28])\n",
      "torch.Size([500, 1, 28, 28])\n",
      "torch.Size([500, 1, 28, 28])\n",
      "torch.Size([500, 1, 28, 28])\n",
      "torch.Size([500, 1, 28, 28])\n",
      "torch.Size([500, 1, 28, 28])\n",
      "torch.Size([500, 1, 28, 28])\n",
      "torch.Size([500, 1, 28, 28])\n",
      "torch.Size([500, 1, 28, 28])\n",
      "torch.Size([500, 1, 28, 28])\n",
      "torch.Size([500, 1, 28, 28])\n",
      "torch.Size([500, 1, 28, 28])\n",
      "torch.Size([500, 1, 28, 28])\n",
      "torch.Size([500, 1, 28, 28])\n",
      "torch.Size([500, 1, 28, 28])\n",
      "torch.Size([500, 1, 28, 28])\n",
      "torch.Size([500, 1, 28, 28])\n",
      "torch.Size([500, 1, 28, 28])\n",
      "torch.Size([500, 1, 28, 28])\n",
      "torch.Size([500, 1, 28, 28])\n",
      "torch.Size([500, 1, 28, 28])\n",
      "torch.Size([500, 1, 28, 28])\n",
      "torch.Size([500, 1, 28, 28])\n",
      "torch.Size([500, 1, 28, 28])\n",
      "torch.Size([500, 1, 28, 28])\n",
      "torch.Size([500, 1, 28, 28])\n",
      "torch.Size([500, 1, 28, 28])\n",
      "torch.Size([500, 1, 28, 28])\n",
      "torch.Size([500, 1, 28, 28])\n",
      "torch.Size([500, 1, 28, 28])\n",
      "torch.Size([500, 1, 28, 28])\n",
      "torch.Size([500, 1, 28, 28])\n",
      "torch.Size([500, 1, 28, 28])\n",
      "tensor([[[[0., 0., 0.,  ..., 0., 0., 0.],\n",
      "          [0., 0., 0.,  ..., 0., 0., 0.],\n",
      "          [0., 0., 0.,  ..., 0., 0., 0.],\n",
      "          ...,\n",
      "          [0., 0., 0.,  ..., 0., 0., 0.],\n",
      "          [0., 0., 0.,  ..., 0., 0., 0.],\n",
      "          [0., 0., 0.,  ..., 0., 0., 0.]]],\n",
      "\n",
      "\n",
      "        [[[0., 0., 0.,  ..., 0., 0., 0.],\n",
      "          [0., 0., 0.,  ..., 0., 0., 0.],\n",
      "          [0., 0., 0.,  ..., 0., 0., 0.],\n",
      "          ...,\n",
      "          [0., 0., 0.,  ..., 0., 0., 0.],\n",
      "          [0., 0., 0.,  ..., 0., 0., 0.],\n",
      "          [0., 0., 0.,  ..., 0., 0., 0.]]],\n",
      "\n",
      "\n",
      "        [[[0., 0., 0.,  ..., 0., 0., 0.],\n",
      "          [0., 0., 0.,  ..., 0., 0., 0.],\n",
      "          [0., 0., 0.,  ..., 0., 0., 0.],\n",
      "          ...,\n",
      "          [0., 0., 0.,  ..., 0., 0., 0.],\n",
      "          [0., 0., 0.,  ..., 0., 0., 0.],\n",
      "          [0., 0., 0.,  ..., 0., 0., 0.]]],\n",
      "\n",
      "\n",
      "        ...,\n",
      "\n",
      "\n",
      "        [[[0., 0., 0.,  ..., 0., 0., 0.],\n",
      "          [0., 0., 0.,  ..., 0., 0., 0.],\n",
      "          [0., 0., 0.,  ..., 0., 0., 0.],\n",
      "          ...,\n",
      "          [0., 0., 0.,  ..., 0., 0., 0.],\n",
      "          [0., 0., 0.,  ..., 0., 0., 0.],\n",
      "          [0., 0., 0.,  ..., 0., 0., 0.]]],\n",
      "\n",
      "\n",
      "        [[[0., 0., 0.,  ..., 0., 0., 0.],\n",
      "          [0., 0., 0.,  ..., 0., 0., 0.],\n",
      "          [0., 0., 0.,  ..., 0., 0., 0.],\n",
      "          ...,\n",
      "          [0., 0., 0.,  ..., 0., 0., 0.],\n",
      "          [0., 0., 0.,  ..., 0., 0., 0.],\n",
      "          [0., 0., 0.,  ..., 0., 0., 0.]]],\n",
      "\n",
      "\n",
      "        [[[0., 0., 0.,  ..., 0., 0., 0.],\n",
      "          [0., 0., 0.,  ..., 0., 0., 0.],\n",
      "          [0., 0., 0.,  ..., 0., 0., 0.],\n",
      "          ...,\n",
      "          [0., 0., 0.,  ..., 0., 0., 0.],\n",
      "          [0., 0., 0.,  ..., 0., 0., 0.],\n",
      "          [0., 0., 0.,  ..., 0., 0., 0.]]]])\n"
     ]
    }
   ],
   "source": [
    "for x, y in train_data:\n",
    "    print(x.shape)\n",
    "#     print(y)\n",
    "print(x)"
   ]
  },
  {
   "cell_type": "code",
   "execution_count": 102,
   "metadata": {},
   "outputs": [],
   "source": [
    "nn.Module?"
   ]
  },
  {
   "cell_type": "code",
   "execution_count": null,
   "metadata": {},
   "outputs": [],
   "source": [
    "2x + 3y + 5 = 10\n",
    "3.5x + 4.2 +1 = 6\n",
    "2x + 3y + 5 = 10\n",
    "3.5x + 4.2 +1 = 6\n",
    "2x + 3y + 5 = 10\n",
    "3.5x + 4.2 +1 = 6\n",
    "2x + 3y + 5 = 10\n",
    "3.5x + 4.2 +1 = 6\n",
    "1.5x + 7.8y + 7 = \n"
   ]
  }
 ],
 "metadata": {
  "kernelspec": {
   "display_name": "Python 3",
   "language": "python",
   "name": "python3"
  },
  "language_info": {
   "codemirror_mode": {
    "name": "ipython",
    "version": 3
   },
   "file_extension": ".py",
   "mimetype": "text/x-python",
   "name": "python",
   "nbconvert_exporter": "python",
   "pygments_lexer": "ipython3",
   "version": "3.7.4"
  }
 },
 "nbformat": 4,
 "nbformat_minor": 2
}
